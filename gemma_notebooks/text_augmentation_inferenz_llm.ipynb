{
 "cells": [
  {
   "cell_type": "code",
   "execution_count": null,
   "metadata": {},
   "outputs": [
    {
     "name": "stderr",
     "output_type": "stream",
     "text": [
      "/home/zeus/miniconda3/envs/cloudspace/lib/python3.10/site-packages/albumentations/__init__.py:28: UserWarning: A new version of Albumentations is available: '2.0.8' (you have '2.0.7'). Upgrade using: pip install -U albumentations. To disable automatic update checks, set the environment variable NO_ALBUMENTATIONS_UPDATE to 1.\n",
      "  check_for_updates()\n"
     ]
    }
   ],
   "source": [
    "from transformers import AutoProcessor, Gemma3ForConditionalGeneration\n",
    "from pathlib import Path\n",
    "from datasets import load_from_disk\n",
    "from tqdm import tqdm\n",
    "import torch\n",
    "import csv\n",
    "import albumentations as A\n",
    "from PIL import Image\n",
    "import numpy as np\n",
    "import openai"
   ]
  },
  {
   "cell_type": "code",
   "execution_count": null,
   "metadata": {},
   "outputs": [
    {
     "data": {
      "application/vnd.jupyter.widget-view+json": {
       "model_id": "2442dd0151e4431593edb1e7957534c9",
       "version_major": 2,
       "version_minor": 0
      },
      "text/plain": [
       "Loading checkpoint shards:   0%|          | 0/9 [00:00<?, ?it/s]"
      ]
     },
     "metadata": {},
     "output_type": "display_data"
    }
   ],
   "source": [
    "# ---------------------------------------------------------------------------\n",
    "# 1. Modell und Prozessor laden\n",
    "# ---------------------------------------------------------------------------\n",
    "model_id = \"merged_model_batchsize_2/\"\n",
    "model = Gemma3ForConditionalGeneration.from_pretrained(\n",
    "    model_id, device_map={\"\":0}, torch_dtype=torch.bfloat16\n",
    ").eval()\n",
    "processor = AutoProcessor.from_pretrained(model_id, use_fast=True)"
   ]
  },
  {
   "cell_type": "code",
   "execution_count": null,
   "metadata": {},
   "outputs": [
    {
     "name": "stdout",
     "output_type": "stream",
     "text": [
      "🖥️ Torch device: NVIDIA L4\n"
     ]
    }
   ],
   "source": [
    "# ---------------------------------------------------------------------------\n",
    "# 2. Gerätetyp ermitteln (GPU mit BF16‑Unterstützung bevorzugt)\n",
    "# ---------------------------------------------------------------------------\n",
    "if torch.cuda.is_available() and torch.cuda.is_bf16_supported():\n",
    "    dtype = torch.bfloat16\n",
    "else:\n",
    "    dtype = torch.float\n",
    "print(\"🖥️ Torch device:\", torch.cuda.get_device_name(0) if torch.cuda.is_available() else \"CPU only\")"
   ]
  },
  {
   "cell_type": "code",
   "execution_count": null,
   "metadata": {},
   "outputs": [],
   "source": [
    "# ---------------------------------------------------------------------------\n",
    "# 3. Datensatz laden\n",
    "# ---------------------------------------------------------------------------\n",
    "project_root = Path.cwd().parent\n",
    "data_path = project_root / \"data\" / \"validation\"\n",
    "dataset = load_from_disk(str(data_path))"
   ]
  },
  {
   "cell_type": "code",
   "execution_count": null,
   "metadata": {},
   "outputs": [],
   "source": [
    "# ---------------------------------------------------------------------------\n",
    "# 4. OpenAI‑Client (für Frage‑Umformulierungen)\n",
    "# ---------------------------------------------------------------------------\n",
    "client = openai.OpenAI(api_key=\"api_key\")\n",
    "MODEL_NAME = \"gpt-4o-mini\"    "
   ]
  },
  {
   "cell_type": "code",
   "execution_count": null,
   "metadata": {},
   "outputs": [],
   "source": [
    "# ---------------------------------------------------------------------------\n",
    "# 5. Helferfunktion: Frage umformulieren (sprachliche Diversität)\n",
    "# ---------------------------------------------------------------------------\n",
    "def rephrase_question(question: str, n_variants: int = 1) -> list[str]:\n",
    "    system_prompt = (\n",
    "    # ---- ROLE ----\n",
    "    \"You are a senior medical language specialist.\\n\"\n",
    "    \"\\n\"\n",
    "    \"TASK\\n\"\n",
    "    \"Rephrase the following pathology-related question into ONE linguistically diverse variant.\\n\"\n",
    "    \"\\n\"\n",
    "    \"HARD CONSTRAINTS (must stay identical)\\n\"\n",
    "    \"• Medical meaning and implied answer\\n\"\n",
    "    \"• Scope and subject of the question\\n\"\n",
    "    \"• Answer type (yes/no ↔ yes/no, entity ↔ entity, etc.)\\n\"\n",
    "    \"• Facts, numbers, entities – none may be added or removed\\n\"\n",
    "    \"• Do not turn a request for a characteristic into a definition (or vice versa).\\n\"\n",
    "    \"• Expected answer length and granularity must match the original.\\n\"\n",
    "    \"• Preserve key morphological descriptors exactly (e.g. “swirl”, “wavy”, “keratin pearl”).\\n\"\n",
    "    \"\\n\"\n",
    "    \"VARIATION GUIDELINES (apply at least one)\\n\"\n",
    "    \"1. Switch voice or clause order (active ↔ passive, fronting, etc.)\\n\"\n",
    "    \"2. Use precise synonyms or hyper-/hyponyms that do **not** affect meaning\\n\"\n",
    "    \"3. Embed the core question in a different grammatical structure (e.g. statement → question)\\n\"\n",
    "    \"\\n\"\n",
    "    \"QUALITY FILTER\\n\"\n",
    "    \"• Paraphrase must change ≥ 20 % of tokens compared with the original.\\n\"\n",
    "    \"• Purely cosmetic edits (punctuation, capitalisation) are insufficient.\\n\"\n",
    "    \"• If **any** hard constraint would be violated **or** the 20 % threshold is not met, \"\n",
    "    \"output exactly the ORIGINAL question without modification.\\n\"\n",
    "    \"\\n\"\n",
    "    \"OUTPUT\\n\"\n",
    "    \"Return exactly ONE line with the rephrased question – no quotation marks, numbering or extra text.\"\n",
    "    )\n",
    "\n",
    "    prompt  = f\"Original question:\\n\\\"{question}\\\"\\n\\nRephrased question:\"\n",
    "    \n",
    "    response = client.chat.completions.create(\n",
    "        model=MODEL_NAME,\n",
    "        messages=[\n",
    "            {\"role\": \"system\", \"content\": system_prompt},\n",
    "            {\"role\": \"user\",   \"content\": prompt}\n",
    "        ],\n",
    "        temperature=0.6,     # leicht kreativ, trotzdem präzise\n",
    "        top_p=0.95,\n",
    "        n=n_variants\n",
    "    )\n",
    "\n",
    "    return [choice.message.content.strip() for choice in response.choices]"
   ]
  },
  {
   "cell_type": "code",
   "execution_count": null,
   "metadata": {},
   "outputs": [],
   "source": [
    "# ---------------------------------------------------------------------------\n",
    "# 6. CSV‑Ausgabe vorbereiten – inkl. Augmentations‑Info\n",
    "# ---------------------------------------------------------------------------\n",
    "\n",
    "output_file = \"../data/llm_answers/batchsize_2_satzumstellung_mit_Gpt_4o.csv\"\n",
    "fieldnames = [\n",
    "    \"ID\",\n",
    "    \"augmentation\",\n",
    "    \"question_orig\",\n",
    "    \"question_augmented\",\n",
    "    \"correct_answer\",\n",
    "    \"model_output\",\n",
    "]"
   ]
  },
  {
   "cell_type": "code",
   "execution_count": null,
   "metadata": {},
   "outputs": [
    {
     "name": "stderr",
     "output_type": "stream",
     "text": [
      "  0%|          | 0/6259 [00:00<?, ?it/s]/home/zeus/miniconda3/envs/cloudspace/lib/python3.10/site-packages/transformers/generation/configuration_utils.py:636: UserWarning: `do_sample` is set to `False`. However, `top_p` is set to `0.95` -- this flag is only used in sample-based generation modes. You should set `do_sample=True` or unset `top_p`.\n",
      "  warnings.warn(\n",
      "/home/zeus/miniconda3/envs/cloudspace/lib/python3.10/site-packages/transformers/generation/configuration_utils.py:653: UserWarning: `do_sample` is set to `False`. However, `top_k` is set to `64` -- this flag is only used in sample-based generation modes. You should set `do_sample=True` or unset `top_k`.\n",
      "  warnings.warn(\n",
      "  7%|▋         | 429/6259 [07:32<1:27:14,  1.11it/s]/home/zeus/miniconda3/envs/cloudspace/lib/python3.10/site-packages/PIL/TiffImagePlugin.py:950: UserWarning: Truncated File Read\n",
      "  warnings.warn(str(msg))\n",
      "100%|██████████| 6259/6259 [1:54:17<00:00,  1.10s/it]  "
     ]
    },
    {
     "name": "stdout",
     "output_type": "stream",
     "text": [
      "✅ Alle Ergebnisse gesichert: ../data/llm_answers/batchsize_2_satzumstellung_mit_Gpt_4o.csv\n"
     ]
    },
    {
     "name": "stderr",
     "output_type": "stream",
     "text": [
      "\n"
     ]
    }
   ],
   "source": [
    "with open(output_file, \"w\", newline=\"\", encoding=\"utf-8\") as f:\n",
    "    writer = csv.DictWriter(f, fieldnames=fieldnames)\n",
    "    writer.writeheader()\n",
    "        # -----------------------------------------------------------------------\n",
    "    # 7. Hauptschleife: Datensatz durchlaufen\n",
    "    # -----------------------------------------------------------------------\n",
    "\n",
    "    for idx in tqdm(range(len(dataset))):\n",
    "        sample         = dataset[idx]\n",
    "        question_orig  = sample[\"question\"]\n",
    "        ground_truth   = sample[\"answer\"]\n",
    "        qid            = sample.get(\"id\", idx + 1)\n",
    "\n",
    "        # ---------- Schritt 1: Rephrasing ----------\n",
    "        try:\n",
    "            question_aug = rephrase_question(question_orig)[0]\n",
    "            aug_name = \"gpt4o_rephrase\"\n",
    "        except Exception as e:\n",
    "            print(f\"Rephrase-Fehler bei ID {qid}: {e}\")\n",
    "            question_aug = question_orig\n",
    "            aug_name = \"none\"\n",
    "\n",
    "        # ---------- Schritt 2: Vision-LLM ----------\n",
    "        messages = [\n",
    "            {\n",
    "                \"role\": \"system\",\n",
    "                \"content\": [{\n",
    "                    \"type\": \"text\",\n",
    "                    \"text\": (\n",
    "                        \"You are a medical pathology expert. Your task is to answer \"\n",
    "                        \"medical questions based solely on the visual information in the \"\n",
    "                        \"provided pathology image. Focus only on what is visible in the image — \"\n",
    "                        \"do not rely on prior medical knowledge, assumptions, or external information. \"\n",
    "                        \"Your responses should be short, factual, and medically precise, using \"\n",
    "                        \"appropriate terminology. Do not include explanations. \"\n",
    "                        \"Use a consistent format, no punctuation, avoid capitalisation unless needed. \"\n",
    "                        \"Only return the exact answer.\"\n",
    "                    )\n",
    "                }]\n",
    "            },\n",
    "            {\n",
    "                \"role\": \"user\",\n",
    "                \"content\": [\n",
    "                    {\"type\": \"image\", \"image\": sample[\"image\"].convert(\"RGB\")},\n",
    "                    {\"type\": \"text\",  \"text\": question_aug}\n",
    "                ]\n",
    "            }\n",
    "        ]\n",
    "\n",
    "        inputs = processor.apply_chat_template(\n",
    "            messages,\n",
    "            add_generation_prompt=True,\n",
    "            tokenize=True,\n",
    "            return_dict=True,\n",
    "            return_tensors=\"pt\"\n",
    "        ).to(model.device, dtype=dtype)\n",
    "\n",
    "        input_len = inputs[\"input_ids\"].shape[-1]\n",
    "\n",
    "        with torch.inference_mode():\n",
    "            output_ids = model.generate(\n",
    "                **inputs,\n",
    "                max_new_tokens=100,\n",
    "                do_sample=False\n",
    "            )[0][input_len:]\n",
    "\n",
    "        llm_answer = processor.decode(output_ids, skip_special_tokens=True).strip()\n",
    "\n",
    "        # ---------- Schritt 3: CSV-Log ----------\n",
    "        writer.writerow({\n",
    "            \"ID\": qid,\n",
    "            \"augmentation\": aug_name,\n",
    "            \"question_orig\": question_orig,\n",
    "            \"question_augmented\": question_aug,\n",
    "            \"correct_answer\": ground_truth,\n",
    "            \"model_output\": llm_answer\n",
    "        })\n",
    "\n",
    "print(\"✅ Alle Ergebnisse gesichert:\", output_file)"
   ]
  }
 ],
 "metadata": {
  "language_info": {
   "name": "python"
  }
 },
 "nbformat": 4,
 "nbformat_minor": 2
}
