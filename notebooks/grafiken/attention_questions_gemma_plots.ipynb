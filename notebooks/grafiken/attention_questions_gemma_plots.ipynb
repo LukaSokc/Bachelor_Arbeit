{
 "cells": [
  {
   "cell_type": "code",
   "outputs": [],
   "source": [
    "import pandas as pd\n",
    "import numpy as np\n",
    "import spacy\n",
    "import re\n",
    "import collections\n",
    "import matplotlib.pyplot as plt\n",
    "from matplotlib.ticker import PercentFormatter"
   ],
   "metadata": {
    "collapsed": false,
    "ExecuteTime": {
     "end_time": "2025-06-04T08:56:17.001297Z",
     "start_time": "2025-06-04T08:56:16.997220Z"
    }
   },
   "id": "f6276138f8f041dd",
   "execution_count": 15
  },
  {
   "cell_type": "code",
   "outputs": [],
   "source": [
    "CSV_PATH = r\"C:\\Users\\Arbnor\\Desktop\\BA\\validation_attention.csv\"\n",
    "SPACY_MODEL = \"en_core_web_sm\"\n",
    "SHOW_DEBUG = False  # True = zeigt Wort-Level-Analyse für jede Frage aus dem Validationdatensatz\n"
   ],
   "metadata": {
    "collapsed": false,
    "ExecuteTime": {
     "end_time": "2025-06-04T08:56:17.041178Z",
     "start_time": "2025-06-04T08:56:17.038305Z"
    }
   },
   "id": "54d1ff1387c34f83",
   "execution_count": 16
  },
  {
   "cell_type": "code",
   "outputs": [],
   "source": [
    "POS_TRANSLATION = {\n",
    "    \"NOUN\": \"Nomen\",\n",
    "    \"VERB\": \"Verb\",\n",
    "    \"ADJ\": \"Adjektiv\",\n",
    "    \"PUNCT\": \"Satzzeichen\",\n",
    "    \"PRON\": \"Pronomen\",\n",
    "    \"DET\": \"Determinator\",\n",
    "    \"ADV\": \"Adverb\",\n",
    "    \"OTHER\": \"Andere\",\n",
    "    \"WH\": \"Fragewort\"\n",
    "}\n",
    "\n",
    "WH_SET = {\"what\", \"which\", \"who\", \"whom\", \"whose\", \"where\", \"when\", \"why\", \"how\"}\n",
    "NEW_CHUNK = re.compile(r\"^[▁]|^[\\?\\!\\,\\.\\:\\;]$\")\n"
   ],
   "metadata": {
    "collapsed": false,
    "ExecuteTime": {
     "end_time": "2025-06-04T08:56:17.060429Z",
     "start_time": "2025-06-04T08:56:17.056444Z"
    }
   },
   "id": "95b5e30f8f0412e8",
   "execution_count": 17
  },
  {
   "cell_type": "code",
   "outputs": [],
   "source": [
    "def pos_bucket(token_str, pos_tag):\n",
    "    \"\"\"Zuordnung zu POS-Buckets basierend auf Token-String und POS-Tag.\"\"\"\n",
    "    low = token_str.lower()\n",
    "    if low in WH_SET:\n",
    "        return \"WH\"\n",
    "    if pos_tag == \"ADJ\":\n",
    "        return \"ADJ\"\n",
    "    if pos_tag in (\"VERB\", \"AUX\"):\n",
    "        return \"VERB\"\n",
    "    if pos_tag == \"NOUN\":\n",
    "        return \"NOUN\"\n",
    "    if pos_tag == \"PRON\":\n",
    "        return \"PRON\"\n",
    "    if pos_tag == \"DET\":\n",
    "        return \"DET\"\n",
    "    if pos_tag == \"ADV\":\n",
    "        return \"ADV\"\n",
    "    if pos_tag == \"PUNCT\" or re.fullmatch(r\"[\\?\\!\\,\\.\\:\\;]\", token_str):\n",
    "        return \"PUNCT\"\n",
    "    return \"OTHER\""
   ],
   "metadata": {
    "collapsed": false,
    "ExecuteTime": {
     "end_time": "2025-06-04T08:56:17.067609Z",
     "start_time": "2025-06-04T08:56:17.062435Z"
    }
   },
   "id": "eba745a92dbf1715",
   "execution_count": 18
  },
  {
   "cell_type": "code",
   "outputs": [],
   "source": [
    "def rebuild_words(tok_series, score_series):\n",
    "    \"\"\"Fasst Sub-Tokens (SentencePiece) zu vollständigen Wörtern zusammen.\"\"\"\n",
    "    words, scores = [], []\n",
    "    cur_word, cur_score = \"\", 0.0\n",
    "\n",
    "    for tok, sc in zip(tok_series, score_series):\n",
    "        if NEW_CHUNK.match(tok):\n",
    "            if cur_word:\n",
    "                words.append(cur_word)\n",
    "                scores.append(cur_score)\n",
    "            if tok.startswith(\"▁\"):\n",
    "                cur_word = tok.lstrip(\"▁\")\n",
    "                cur_score = sc\n",
    "            else:\n",
    "                words.append(tok)\n",
    "                scores.append(sc)\n",
    "                cur_word, cur_score = \"\", 0.0\n",
    "        else:\n",
    "            cur_word += tok\n",
    "            cur_score += sc\n",
    "\n",
    "    if cur_word:\n",
    "        words.append(cur_word)\n",
    "        scores.append(cur_score)\n",
    "\n",
    "    return words, scores"
   ],
   "metadata": {
    "collapsed": false,
    "ExecuteTime": {
     "end_time": "2025-06-04T08:56:17.086044Z",
     "start_time": "2025-06-04T08:56:17.080134Z"
    }
   },
   "id": "b11af0a690073787",
   "execution_count": 19
  },
  {
   "cell_type": "code",
   "outputs": [],
   "source": [
    "def process_attention_data(df, nlp):\n",
    "    \"\"\"Berechnet POS-basierten Attention-Anteil pro Sample.\"\"\"\n",
    "    per_sample_percent = []\n",
    "\n",
    "    for sid, group in df.groupby(\"sample_id\", sort=False):\n",
    "        words, scores = rebuild_words(group[\"token\"], group[\"score\"])\n",
    "        doc = nlp(\" \".join(words))\n",
    "\n",
    "        bucket_scores = collections.defaultdict(float)\n",
    "        for word, score, spacy_tok in zip(words, scores, doc):\n",
    "            bucket = pos_bucket(word, spacy_tok.pos_)\n",
    "            bucket_scores[bucket] += score\n",
    "\n",
    "        total = sum(scores)\n",
    "        percent = {k: v / total for k, v in bucket_scores.items()}\n",
    "        percent[\"sample_id\"] = sid\n",
    "        per_sample_percent.append(percent)\n",
    "\n",
    "        if SHOW_DEBUG:\n",
    "            print(f\"\\n=== sample_id {sid} : \\\"{group.question.iloc[0]}\\\" ===\")\n",
    "            print(f\"{'Word':<18} {'Bucket':<6} {'Score':>10}\")\n",
    "            for w, sc, sp in zip(words, scores, doc):\n",
    "                print(f\"{w:<18} {pos_bucket(w, sp.pos_):<6} {sc:10.6f}\")\n",
    "            print(\"  -- Prozentanteile:\")\n",
    "            for k, v in sorted(percent.items(), key=lambda x: -x[1] if x[0] != \"sample_id\" else 1):\n",
    "                if k != \"sample_id\":\n",
    "                    print(f\"    {k:<6}: {v * 100:6.2f} %\")\n",
    "\n",
    "    return pd.DataFrame(per_sample_percent).fillna(0.0)"
   ],
   "metadata": {
    "collapsed": false,
    "ExecuteTime": {
     "end_time": "2025-06-04T08:56:17.126916Z",
     "start_time": "2025-06-04T08:56:17.119054Z"
    }
   },
   "id": "8a597bcac8c451d3",
   "execution_count": 20
  },
  {
   "cell_type": "code",
   "outputs": [],
   "source": [
    "def plot_attention_distribution(mean_percent, translated=False):\n",
    "    \"\"\"Plottet den durchschnittlichen Attention-Anteil.\"\"\"\n",
    "    if translated:\n",
    "        mean_percent = mean_percent.rename(index=POS_TRANSLATION)\n",
    "\n",
    "    plt.figure(figsize=(8, 4))\n",
    "    mean_percent.plot(kind=\"bar\", color=\"#4C72B0\")\n",
    "    plt.gca().yaxis.set_major_formatter(PercentFormatter(1.0))\n",
    "    plt.ylabel(\"Durchschnittlicher Attention-Anteil\")\n",
    "    plt.xlabel(\"Wortart\")\n",
    "    plt.title(\"Durchschnittlicher Attention-Anteil pro Wortart (Validierungsdatensatz)\")\n",
    "    plt.tight_layout()\n",
    "    plt.show()"
   ],
   "metadata": {
    "collapsed": false,
    "ExecuteTime": {
     "end_time": "2025-06-04T08:56:17.133102Z",
     "start_time": "2025-06-04T08:56:17.127922Z"
    }
   },
   "id": "d796d67fa9d58bf0",
   "execution_count": 21
  },
  {
   "cell_type": "code",
   "outputs": [],
   "source": [
    "def main():\n",
    "    # Daten laden\n",
    "    df = pd.read_csv(CSV_PATH)\n",
    "    nlp = spacy.load(SPACY_MODEL, disable=[\"ner\", \"parser\"])\n",
    "\n",
    "    # Attention je Wortart pro Sample\n",
    "    perc_df = process_attention_data(df, nlp)\n",
    "\n",
    "    # Durchschnitt über alle Samples\n",
    "    bucket_cols = sorted([col for col in perc_df.columns if col != \"sample_id\"])\n",
    "    mean_percent = perc_df[bucket_cols].mean().sort_values(ascending=False)\n",
    "\n",
    "    print(\"\\n=== Durchschnittlicher Attention-Anteil je Wortart ===\")\n",
    "    for cat, val in mean_percent.items():\n",
    "        print(f\"{cat:<6}: {val * 100:6.2f} %\")\n",
    "\n",
    "    # Diagramm erzeugen\n",
    "    plot_attention_distribution(mean_percent, translated=True)"
   ],
   "metadata": {
    "collapsed": false,
    "ExecuteTime": {
     "end_time": "2025-06-04T08:56:17.141040Z",
     "start_time": "2025-06-04T08:56:17.134108Z"
    }
   },
   "id": "b0f5e582aa16f917",
   "execution_count": 22
  },
  {
   "cell_type": "code",
   "outputs": [
    {
     "name": "stdout",
     "output_type": "stream",
     "text": [
      "\n",
      "=== Durchschnittlicher Attention-Anteil je Wortart ===\n",
      "NOUN  :  21.50 %\n",
      "VERB  :  19.98 %\n",
      "ADJ   :  19.21 %\n",
      "PUNCT :  14.16 %\n",
      "WH    :  12.99 %\n",
      "OTHER :   6.42 %\n",
      "DET   :   4.99 %\n",
      "ADV   :   0.65 %\n",
      "PRON  :   0.10 %\n"
     ]
    },
    {
     "data": {
      "text/plain": "<Figure size 800x400 with 1 Axes>",
      "image/png": "[encoded data removed]"
     },
     "metadata": {},
     "output_type": "display_data"
    }
   ],
   "source": [
    "if __name__ == \"__main__\":\n",
    "    main()"
   ],
   "metadata": {
    "collapsed": false,
    "ExecuteTime": {
     "end_time": "2025-06-04T08:56:29.519099Z",
     "start_time": "2025-06-04T08:56:17.142046Z"
    }
   },
   "id": "8f9866e1f4e7423f",
   "execution_count": 23
  },
  {
   "cell_type": "code",
   "outputs": [],
   "source": [],
   "metadata": {
    "collapsed": false,
    "ExecuteTime": {
     "end_time": "2025-06-04T08:56:29.524618Z",
     "start_time": "2025-06-04T08:56:29.521608Z"
    }
   },
   "id": "8515fd73cf3e540c",
   "execution_count": 23
  }
 ],
 "metadata": {
  "kernelspec": {
   "display_name": "Python 3",
   "language": "python",
   "name": "python3"
  },
  "language_info": {
   "codemirror_mode": {
    "name": "ipython",
    "version": 2
   },
   "file_extension": ".py",
   "mimetype": "text/x-python",
   "name": "python",
   "nbconvert_exporter": "python",
   "pygments_lexer": "ipython2",
   "version": "2.7.6"
  }
 },
 "nbformat": 4,
 "nbformat_minor": 5
}
