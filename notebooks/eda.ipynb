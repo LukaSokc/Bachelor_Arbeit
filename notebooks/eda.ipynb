{
 "cells": [
  {
   "cell_type": "code",
   "execution_count": 1,
   "id": "701ad30d2048fd13",
   "metadata": {
    "ExecuteTime": {
     "end_time": "2025-03-14T13:23:00.857344Z",
     "start_time": "2025-03-14T13:23:00.208963Z"
    },
    "collapsed": false
   },
   "outputs": [],
   "source": [
    "from datasets import load_from_disk\n",
    "from pathlib import Path\n",
    "import matplotlib.pyplot as plt"
   ]
  },
  {
   "cell_type": "code",
   "execution_count": 2,
   "id": "initial_id",
   "metadata": {
    "ExecuteTime": {
     "end_time": "2025-03-14T13:23:00.975238Z",
     "start_time": "2025-03-14T13:23:00.858349Z"
    },
    "collapsed": true
   },
   "outputs": [],
   "source": [
    "project_root = Path.cwd().parent\n",
    "data_path_1 = project_root / \"data\" / \"train\"\n",
    "data_path_2 = project_root / \"data\" / \"test\"\n",
    "data_path_3 = project_root / \"data\" / \"validation\"\n",
    "\n",
    "train = load_from_disk(str(data_path_1))\n",
    "test = load_from_disk(str(data_path_2))\n",
    "validation = load_from_disk(str(data_path_3))"
   ]
  },
  {
   "cell_type": "code",
   "execution_count": null,
   "id": "d0950eb1",
   "metadata": {},
   "outputs": [
    {
     "name": "stderr",
     "output_type": "stream",
     "text": [
      "C:\\Users\\lukas\\AppData\\Roaming\\Python\\Python311\\site-packages\\PIL\\TiffImagePlugin.py:950: UserWarning: Truncated File Read\n",
      "  warnings.warn(str(msg))\n"
     ]
    }
   ],
   "source": [
    "train_df = pd.DataFrame(train) "
   ]
  },
  {
   "cell_type": "markdown",
   "id": "92c99e1d",
   "metadata": {},
   "source": [
    "# Allgemeiner Überblick"
   ]
  },
  {
   "cell_type": "code",
   "execution_count": 4,
   "id": "96f065e8",
   "metadata": {},
   "outputs": [
    {
     "name": "stdout",
     "output_type": "stream",
     "text": [
      "Train: 19654 Beispiele\n",
      "Validation: 6259 Beispiele\n",
      "Test: 6719 Beispiele\n"
     ]
    }
   ],
   "source": [
    "counts = {\n",
    "    \"Train\"     : len(train),\n",
    "    \"Validation\": len(validation),\n",
    "    \"Test\"      : len(test)\n",
    "}\n",
    "for split, cnt in counts.items():\n",
    "    print(f\"{split}: {cnt} Beispiele\")"
   ]
  },
  {
   "cell_type": "code",
   "execution_count": 5,
   "id": "0ca4781b",
   "metadata": {},
   "outputs": [
    {
     "name": "stderr",
     "output_type": "stream",
     "text": [
      "C:\\Users\\lukas\\AppData\\Roaming\\Python\\Python311\\site-packages\\PIL\\TiffImagePlugin.py:950: UserWarning: Truncated File Read\n",
      "  warnings.warn(str(msg))\n"
     ]
    },
    {
     "name": "stdout",
     "output_type": "stream",
     "text": [
      "Einzigartige Bilder Train: 2599\n",
      "Einzigartige Bilder Test: 858\n",
      "Einzigartige Bilder Validation: 832\n"
     ]
    }
   ],
   "source": [
    "# Anzahl einzigartiger Bilder pro Split\n",
    "def count_unique_images(ds):\n",
    "    # Nutzt, falls vorhanden, den Dateipfad; sonst Bildbytes-Hash\n",
    "    paths = [getattr(img, \"path\", None) for img in ds[\"image\"]]\n",
    "    if all(p is not None for p in paths):          # Pfade vorhanden\n",
    "        return len(set(paths))\n",
    "    else:\n",
    "        import hashlib\n",
    "        hashes = [hashlib.md5(img.tobytes()).hexdigest() for img in ds[\"image\"]]\n",
    "        return len(set(hashes))\n",
    "\n",
    "print(\"Einzigartige Bilder Train:\", count_unique_images(train))\n",
    "print(\"Einzigartige Bilder Test:\", count_unique_images(test))\n",
    "print(\"Einzigartige Bilder Validation:\", count_unique_images(validation))"
   ]
  },
  {
   "cell_type": "code",
   "execution_count": 6,
   "id": "85dfafa2",
   "metadata": {},
   "outputs": [
    {
     "name": "stdout",
     "output_type": "stream",
     "text": [
      "Train: Ø 1.00 Fragen pro Bild\n",
      "Test: Ø 1.00 Fragen pro Bild\n",
      "Validation: Ø 1.00 Fragen pro Bild\n"
     ]
    }
   ],
   "source": [
    "# Verteilung Bilder ↔ Fragen in jedem Split\n",
    "def questions_per_image(ds):\n",
    "    paths = [getattr(img, \"path\", idx) for idx, img in enumerate(ds[\"image\"])]\n",
    "    from collections import Counter\n",
    "    return Counter(paths)\n",
    "\n",
    "for name, ds in [(\"Train\", train), (\"Test\", test), (\"Validation\", validation)]:\n",
    "    qpi = questions_per_image(ds)\n",
    "    print(f\"{name}: Ø {sum(qpi.values())/len(qpi):.2f} Fragen pro Bild\")"
   ]
  },
  {
   "cell_type": "markdown",
   "id": "71eb2a58",
   "metadata": {},
   "source": [
    "# Strukturelle Analyse"
   ]
  },
  {
   "cell_type": "code",
   "execution_count": 7,
   "id": "36d63689",
   "metadata": {},
   "outputs": [
    {
     "name": "stdout",
     "output_type": "stream",
     "text": [
      "{'image': Image(mode=None, decode=True, id=None), 'question': Value(dtype='string', id=None), 'answer': Value(dtype='string', id=None)}\n"
     ]
    }
   ],
   "source": [
    "# Datentypen laut HF-Datasets-Schema\n",
    "print(train.features)          # zeigt alle Spalten + Typen\n"
   ]
  },
  {
   "cell_type": "code",
   "execution_count": 8,
   "id": "c4b87271",
   "metadata": {},
   "outputs": [
    {
     "name": "stdout",
     "output_type": "stream",
     "text": [
      "Train       image   :     0 fehlend  (0.00%)\n",
      "Train       question:     0 fehlend  (0.00%)\n",
      "Train       answer  :     0 fehlend  (0.00%)\n",
      "Test        image   :     0 fehlend  (0.00%)\n",
      "Test        question:     0 fehlend  (0.00%)\n",
      "Test        answer  :     0 fehlend  (0.00%)\n",
      "Validation  image   :     0 fehlend  (0.00%)\n",
      "Validation  question:     0 fehlend  (0.00%)\n",
      "Validation  answer  :     0 fehlend  (0.00%)\n"
     ]
    }
   ],
   "source": [
    "from collections import Counter\n",
    "import numpy as np\n",
    "\n",
    "def missing_stats(ds, col):\n",
    "    \"\"\"Zählt leere Strings, None und NaN.\"\"\"\n",
    "    empty = 0\n",
    "    for v in ds[col]:\n",
    "        if v is None or (isinstance(v, str) and v.strip() == '') \\\n",
    "                     or (isinstance(v, float) and np.isnan(v)):\n",
    "            empty += 1\n",
    "    return empty, empty/len(ds)\n",
    "\n",
    "for split_name, split_ds in [(\"Train\", train), (\"Test\", test), (\"Validation\", validation)]:\n",
    "    for col in [\"image\", \"question\", \"answer\"]:\n",
    "        miss_abs, miss_rel = missing_stats(split_ds, col)\n",
    "        print(f\"{split_name:<11} {col:<8}: {miss_abs:5d} fehlend  ({miss_rel:.2%})\")\n"
   ]
  },
  {
   "cell_type": "markdown",
   "id": "7e9d587e",
   "metadata": {},
   "source": [
    "# Analyse der Fragen"
   ]
  },
  {
   "cell_type": "code",
   "execution_count": 14,
   "id": "e5647266",
   "metadata": {},
   "outputs": [
    {
     "name": "stdout",
     "output_type": "stream",
     "text": [
      "\n",
      "Train:\n",
      "  open    :  9847  (50.1%)\n",
      "  numeric :    58  (0.3%)\n",
      "  yes_no  :  9749  (49.6%)\n",
      "\n",
      "Test:\n",
      "  open    :  3328  (49.5%)\n",
      "  yes_no  :  3361  (50.0%)\n",
      "  numeric :    30  (0.4%)\n",
      "\n",
      "Validation:\n",
      "  open    :  3101  (49.5%)\n",
      "  yes_no  :  3125  (49.9%)\n",
      "  numeric :    33  (0.5%)\n"
     ]
    }
   ],
   "source": [
    "import re\n",
    "from collections import Counter\n",
    "\n",
    "def classify_question(q: str) -> str:\n",
    "    \"\"\"\n",
    "    Very simple rule-based detection for English questions.\n",
    "    Returns one of {'yes_no', 'numeric', 'open'}.\n",
    "    \"\"\"\n",
    "    q_lower = q.lower().strip()\n",
    "\n",
    "    # yes/no pattern → starts with auxiliary / modal verb\n",
    "    if re.match(r\"^(is|are|was|were|do|does|did|has|have|had|can|could|will|would|should)\\b\", q_lower):\n",
    "        return \"yes_no\"\n",
    "\n",
    "    # numeric pattern → contains at least one digit\n",
    "    if re.search(r\"\\d\", q_lower):\n",
    "        return \"numeric\"\n",
    "\n",
    "    return \"open\"\n",
    "\n",
    "for name, ds in [(\"Train\", train), (\"Test\", test), (\"Validation\", validation)]:\n",
    "    types = Counter(classify_question(q) for q in ds[\"question\"])\n",
    "    total = sum(types.values())\n",
    "    print(f\"\\n{name}:\")\n",
    "    for t, c in types.items():\n",
    "        print(f\"  {t:<8}: {c:5d}  ({c/total:.1%})\")\n"
   ]
  },
  {
   "cell_type": "code",
   "execution_count": 15,
   "id": "84a650c2",
   "metadata": {},
   "outputs": [
    {
     "data": {
      "image/png": "[encoded data removed]",
      "text/plain": [
       "<Figure size 640x480 with 1 Axes>"
      ]
     },
     "metadata": {},
     "output_type": "display_data"
    }
   ],
   "source": [
    "import matplotlib.pyplot as plt\n",
    "\n",
    "def q_len_words(q): return len(q.split())\n",
    "def q_len_sents(q): return q.count(\"?\") + q.count(\".\") + q.count(\"!\")\n",
    "\n",
    "lengths_words = [q_len_words(q) for q in train[\"question\"]]\n",
    "\n",
    "plt.hist(lengths_words, bins=30)\n",
    "plt.xlabel(\"Words per question\")\n",
    "plt.ylabel(\"Number of questions\")\n",
    "plt.title(\"Question length distribution (Train)\")\n",
    "plt.show()\n"
   ]
  },
  {
   "cell_type": "markdown",
   "id": "b7f3a8bb",
   "metadata": {},
   "source": [
    "# Analyse der Antworten"
   ]
  },
  {
   "cell_type": "code",
   "execution_count": 18,
   "id": "d0aac3b7",
   "metadata": {},
   "outputs": [],
   "source": [
    "import re\n",
    "from collections import Counter, defaultdict\n",
    "import matplotlib.pyplot as plt\n"
   ]
  },
  {
   "cell_type": "code",
   "execution_count": 19,
   "id": "25ee8001",
   "metadata": {},
   "outputs": [],
   "source": [
    "def classify_answer(ans: str) -> str:\n",
    "    \"\"\"\n",
    "    Very simple rule set for answer classes.\n",
    "    Returns one of {'yes_no', 'numeric', 'free'}.\n",
    "    \"\"\"\n",
    "    a = ans.strip().lower()\n",
    "    if a in {\"yes\", \"no\"}:\n",
    "        return \"yes_no\"\n",
    "    # numeric if it contains at least one digit OR is parseable as float\n",
    "    if re.search(r\"\\d\", a):\n",
    "        return \"numeric\"\n",
    "    try:\n",
    "        float(a)\n",
    "        return \"numeric\"\n",
    "    except ValueError:\n",
    "        pass\n",
    "    return \"free\"\n"
   ]
  },
  {
   "cell_type": "code",
   "execution_count": 20,
   "id": "d2c3544f",
   "metadata": {},
   "outputs": [
    {
     "name": "stdout",
     "output_type": "stream",
     "text": [
      "\n",
      "=== Train ===\n",
      "free    :  9792  (49.8%)\n",
      "yes_no  :  9751  (49.6%)\n",
      "numeric :   111  (0.6%)\n",
      "Unique answers: 3225\n",
      "Top-5: [('yes', 5378), ('no', 4373), ('oral', 370), ('cardiovascular', 308), ('hematologic', 266)]\n",
      "\n",
      "=== Test ===\n",
      "free    :  3317  (49.4%)\n",
      "yes_no  :  3362  (50.0%)\n",
      "numeric :    40  (0.6%)\n",
      "Unique answers: 1300\n",
      "Top-5: [('yes', 1816), ('no', 1546), ('cardiovascular', 128), ('endocrine', 96), ('oral', 89)]\n",
      "\n",
      "=== Validation ===\n",
      "free    :  3088  (49.3%)\n",
      "yes_no  :  3125  (49.9%)\n",
      "numeric :    46  (0.7%)\n",
      "Unique answers: 1215\n",
      "Top-5: [('yes', 1712), ('no', 1413), ('oral', 117), ('hepatobiliary', 100), ('cardiovascular', 98)]\n"
     ]
    }
   ],
   "source": [
    "splits = {\"Train\": train, \"Test\": test, \"Validation\": validation}\n",
    "\n",
    "results = defaultdict(dict)\n",
    "\n",
    "for split_name, ds in splits.items():\n",
    "    # Verteilung der Antworttypen\n",
    "    types = Counter(classify_answer(a) for a in ds[\"answer\"])\n",
    "    results[split_name][\"type_dist\"] = types\n",
    "\n",
    "    # Anzahl eindeutiger Antworten\n",
    "    uniq = len(set(ds[\"answer\"]))\n",
    "    results[split_name][\"n_unique\"] = uniq\n",
    "\n",
    "    # Top-20 Antworten\n",
    "    top20 = Counter(ds[\"answer\"]).most_common(20)\n",
    "    results[split_name][\"top20\"] = top20\n",
    "\n",
    "    # Antwortlaengen in Tokens (Wortanzahl)\n",
    "    lengths = [len(a.split()) for a in ds[\"answer\"]]\n",
    "    results[split_name][\"lengths\"] = lengths\n",
    "\n",
    "    # Mapping Frage-→Antworttyp (Imbalance Check)\n",
    "    qa = Counter(\n",
    "        (classify_question(q), classify_answer(a))\n",
    "        for q, a in zip(ds[\"question\"], ds[\"answer\"])\n",
    "    )\n",
    "    results[split_name][\"qa_matrix\"] = qa\n",
    "\n",
    "# Kurzreport in der Konsole\n",
    "for split, d in results.items():\n",
    "    print(f\"\\n=== {split} ===\")\n",
    "    total = sum(d[\"type_dist\"].values())\n",
    "    for t, c in d[\"type_dist\"].items():\n",
    "        print(f\"{t:<8}: {c:5d}  ({c/total:.1%})\")\n",
    "    print(\"Unique answers:\", d[\"n_unique\"])\n",
    "    print(\"Top-5:\", d[\"top20\"][:5])\n"
   ]
  },
  {
   "cell_type": "code",
   "execution_count": 21,
   "id": "c30c185e",
   "metadata": {},
   "outputs": [
    {
     "data": {
      "image/png": "[encoded data removed]",
      "text/plain": [
       "<Figure size 600x400 with 1 Axes>"
      ]
     },
     "metadata": {},
     "output_type": "display_data"
    }
   ],
   "source": [
    "plt.figure(figsize=(6,4))\n",
    "for split, d in results.items():\n",
    "    plt.hist(d[\"lengths\"], bins=25, alpha=0.5, label=split, density=True)\n",
    "plt.xlabel(\"Words per answer\")\n",
    "plt.ylabel(\"Density\")\n",
    "plt.title(\"Answer length distribution\")\n",
    "plt.legend()\n",
    "plt.show()\n"
   ]
  },
  {
   "cell_type": "code",
   "execution_count": 22,
   "id": "8734ef04",
   "metadata": {},
   "outputs": [
    {
     "name": "stdout",
     "output_type": "stream",
     "text": [
      "\n",
      "Confusion table Train:\n"
     ]
    },
    {
     "data": {
      "text/html": [
       "<div>\n",
       "<style scoped>\n",
       "    .dataframe tbody tr th:only-of-type {\n",
       "        vertical-align: middle;\n",
       "    }\n",
       "\n",
       "    .dataframe tbody tr th {\n",
       "        vertical-align: top;\n",
       "    }\n",
       "\n",
       "    .dataframe thead th {\n",
       "        text-align: right;\n",
       "    }\n",
       "</style>\n",
       "<table border=\"1\" class=\"dataframe\">\n",
       "  <thead>\n",
       "    <tr style=\"text-align: right;\">\n",
       "      <th></th>\n",
       "      <th>free</th>\n",
       "      <th>numeric</th>\n",
       "      <th>yes_no</th>\n",
       "    </tr>\n",
       "  </thead>\n",
       "  <tbody>\n",
       "    <tr>\n",
       "      <th>numeric</th>\n",
       "      <td>53</td>\n",
       "      <td>5</td>\n",
       "      <td>0</td>\n",
       "    </tr>\n",
       "    <tr>\n",
       "      <th>open</th>\n",
       "      <td>9737</td>\n",
       "      <td>106</td>\n",
       "      <td>4</td>\n",
       "    </tr>\n",
       "    <tr>\n",
       "      <th>yes_no</th>\n",
       "      <td>2</td>\n",
       "      <td>0</td>\n",
       "      <td>9747</td>\n",
       "    </tr>\n",
       "  </tbody>\n",
       "</table>\n",
       "</div>"
      ],
      "text/plain": [
       "         free  numeric  yes_no\n",
       "numeric    53        5       0\n",
       "open     9737      106       4\n",
       "yes_no      2        0    9747"
      ]
     },
     "metadata": {},
     "output_type": "display_data"
    },
    {
     "name": "stdout",
     "output_type": "stream",
     "text": [
      "\n",
      "Confusion table Test:\n"
     ]
    },
    {
     "data": {
      "text/html": [
       "<div>\n",
       "<style scoped>\n",
       "    .dataframe tbody tr th:only-of-type {\n",
       "        vertical-align: middle;\n",
       "    }\n",
       "\n",
       "    .dataframe tbody tr th {\n",
       "        vertical-align: top;\n",
       "    }\n",
       "\n",
       "    .dataframe thead th {\n",
       "        text-align: right;\n",
       "    }\n",
       "</style>\n",
       "<table border=\"1\" class=\"dataframe\">\n",
       "  <thead>\n",
       "    <tr style=\"text-align: right;\">\n",
       "      <th></th>\n",
       "      <th>free</th>\n",
       "      <th>numeric</th>\n",
       "      <th>yes_no</th>\n",
       "    </tr>\n",
       "  </thead>\n",
       "  <tbody>\n",
       "    <tr>\n",
       "      <th>numeric</th>\n",
       "      <td>23</td>\n",
       "      <td>7</td>\n",
       "      <td>0</td>\n",
       "    </tr>\n",
       "    <tr>\n",
       "      <th>open</th>\n",
       "      <td>3293</td>\n",
       "      <td>33</td>\n",
       "      <td>2</td>\n",
       "    </tr>\n",
       "    <tr>\n",
       "      <th>yes_no</th>\n",
       "      <td>1</td>\n",
       "      <td>0</td>\n",
       "      <td>3360</td>\n",
       "    </tr>\n",
       "  </tbody>\n",
       "</table>\n",
       "</div>"
      ],
      "text/plain": [
       "         free  numeric  yes_no\n",
       "numeric    23        7       0\n",
       "open     3293       33       2\n",
       "yes_no      1        0    3360"
      ]
     },
     "metadata": {},
     "output_type": "display_data"
    },
    {
     "name": "stdout",
     "output_type": "stream",
     "text": [
      "\n",
      "Confusion table Validation:\n"
     ]
    },
    {
     "data": {
      "text/html": [
       "<div>\n",
       "<style scoped>\n",
       "    .dataframe tbody tr th:only-of-type {\n",
       "        vertical-align: middle;\n",
       "    }\n",
       "\n",
       "    .dataframe tbody tr th {\n",
       "        vertical-align: top;\n",
       "    }\n",
       "\n",
       "    .dataframe thead th {\n",
       "        text-align: right;\n",
       "    }\n",
       "</style>\n",
       "<table border=\"1\" class=\"dataframe\">\n",
       "  <thead>\n",
       "    <tr style=\"text-align: right;\">\n",
       "      <th></th>\n",
       "      <th>free</th>\n",
       "      <th>numeric</th>\n",
       "      <th>yes_no</th>\n",
       "    </tr>\n",
       "  </thead>\n",
       "  <tbody>\n",
       "    <tr>\n",
       "      <th>numeric</th>\n",
       "      <td>29</td>\n",
       "      <td>4</td>\n",
       "      <td>0</td>\n",
       "    </tr>\n",
       "    <tr>\n",
       "      <th>open</th>\n",
       "      <td>3052</td>\n",
       "      <td>42</td>\n",
       "      <td>7</td>\n",
       "    </tr>\n",
       "    <tr>\n",
       "      <th>yes_no</th>\n",
       "      <td>7</td>\n",
       "      <td>0</td>\n",
       "      <td>3118</td>\n",
       "    </tr>\n",
       "  </tbody>\n",
       "</table>\n",
       "</div>"
      ],
      "text/plain": [
       "         free  numeric  yes_no\n",
       "numeric    29        4       0\n",
       "open     3052       42       7\n",
       "yes_no      7        0    3118"
      ]
     },
     "metadata": {},
     "output_type": "display_data"
    }
   ],
   "source": [
    "import pandas as pd\n",
    "\n",
    "for split, d in results.items():\n",
    "    # baue eine 3x3 Matrix question_type x answer_type\n",
    "    mat = defaultdict(int)\n",
    "    for (qtype, atype), cnt in d[\"qa_matrix\"].items():\n",
    "        mat[(qtype, atype)] += cnt\n",
    "    df = (\n",
    "        pd.Series(mat)\n",
    "        .unstack(level=0)        # Spalten = question types\n",
    "        .fillna(0)\n",
    "        .astype(int)\n",
    "        .T                       # nicer orientation: rows = question\n",
    "    )\n",
    "    print(f\"\\nConfusion table {split}:\")\n",
    "    display(df)                  # Jupyter: zeigt hübsche Tabelle\n"
   ]
  },
  {
   "cell_type": "code",
   "execution_count": 23,
   "id": "4390c637",
   "metadata": {},
   "outputs": [
    {
     "name": "stdout",
     "output_type": "stream",
     "text": [
      "Train: yes answers = 55.2% of all yes/no\n",
      "Test: yes answers = 54.0% of all yes/no\n",
      "Validation: yes answers = 54.8% of all yes/no\n"
     ]
    }
   ],
   "source": [
    "for split, d in results.items():\n",
    "    yn = d[\"type_dist\"][\"yes_no\"]\n",
    "    yes_cnt = sum(1 for a in splits[split][\"answer\"] if a.lower() == \"yes\")\n",
    "    no_cnt  = sum(1 for a in splits[split][\"answer\"] if a.lower() == \"no\")\n",
    "    if yes_cnt + no_cnt:\n",
    "        ratio = yes_cnt / (yes_cnt + no_cnt)\n",
    "        print(f\"{split}: yes answers = {ratio:.1%} of all yes/no\")\n",
    "    else:\n",
    "        print(f\"{split}: no yes/no answers detected\")\n"
   ]
  },
  {
   "cell_type": "code",
   "execution_count": 29,
   "id": "599fcd11",
   "metadata": {},
   "outputs": [
    {
     "name": "stdout",
     "output_type": "stream",
     "text": [
      "Train: Ø 7.56 Fragen pro Bild, Max 32\n",
      "Test: Ø 7.83 Fragen pro Bild, Max 28\n",
      "Validation: Ø 7.52 Fragen pro Bild, Max 32\n"
     ]
    },
    {
     "data": {
      "image/png": "[encoded data removed]",
      "text/plain": [
       "<Figure size 640x480 with 1 Axes>"
      ]
     },
     "metadata": {},
     "output_type": "display_data"
    }
   ],
   "source": [
    "from collections import Counter\n",
    "\n",
    "def questions_per_image(ds):\n",
    "    return Counter(image_hash(im) for im in ds[\"image\"])\n",
    "\n",
    "for name, ds in splits.items():\n",
    "    qpi = questions_per_image(ds)\n",
    "    values = list(qpi.values())\n",
    "    print(f\"{name}: Ø {np.mean(values):.2f} Fragen pro Bild, Max {max(values)}\")\n",
    "    plt.hist(values, bins=range(1, max(values)+2), alpha=0.5, label=name)\n",
    "\n",
    "plt.xlabel(\"Questions per image\")\n",
    "plt.ylabel(\"Number of images\")\n",
    "plt.title(\"Distribution of questions per image\")\n",
    "plt.legend()\n",
    "plt.show()\n"
   ]
  },
  {
   "cell_type": "markdown",
   "id": "437b9b84",
   "metadata": {},
   "source": [
    "# Frage-Antwort Beziehungen und Korrelationen"
   ]
  },
  {
   "cell_type": "code",
   "execution_count": 30,
   "id": "ab5fae1b",
   "metadata": {},
   "outputs": [],
   "source": [
    "import re, itertools, random, math, tqdm, hashlib\n",
    "import numpy as np, pandas as pd\n",
    "from collections import Counter, defaultdict\n",
    "from scipy.stats import chi2_contingency, pearsonr"
   ]
  },
  {
   "cell_type": "code",
   "execution_count": 31,
   "id": "4cb3f3bc",
   "metadata": {},
   "outputs": [
    {
     "name": "stdout",
     "output_type": "stream",
     "text": [
      "Train: r=0.009,  p=1.98e-01  (n=19654)\n",
      "Test: r=0.016,  p=1.79e-01  (n=6719)\n",
      "Validation: r=0.006,  p=6.24e-01  (n=6259)\n"
     ]
    }
   ],
   "source": [
    "def q_len(q): return len(q.split())\n",
    "def a_len(a): return len(a.split())\n",
    "\n",
    "for name, ds in [(\"Train\", train), (\"Test\", test), (\"Validation\", validation)]:\n",
    "    ql = np.array([q_len(q) for q in ds[\"question\"]])\n",
    "    al = np.array([a_len(a) for a in ds[\"answer\"]])\n",
    "    r, p = pearsonr(ql, al)\n",
    "    print(f\"{name}: r={r:.3f},  p={p:.2e}  (n={len(ds)})\")\n"
   ]
  },
  {
   "cell_type": "code",
   "execution_count": 32,
   "id": "edac7b91",
   "metadata": {},
   "outputs": [
    {
     "name": "stdout",
     "output_type": "stream",
     "text": [
      "\n",
      "Train chi²=19688.8 (dof=4), p=0.00e+00\n"
     ]
    },
    {
     "data": {
      "text/html": [
       "<div>\n",
       "<style scoped>\n",
       "    .dataframe tbody tr th:only-of-type {\n",
       "        vertical-align: middle;\n",
       "    }\n",
       "\n",
       "    .dataframe tbody tr th {\n",
       "        vertical-align: top;\n",
       "    }\n",
       "\n",
       "    .dataframe thead th {\n",
       "        text-align: right;\n",
       "    }\n",
       "</style>\n",
       "<table border=\"1\" class=\"dataframe\">\n",
       "  <thead>\n",
       "    <tr style=\"text-align: right;\">\n",
       "      <th>atype</th>\n",
       "      <th>free</th>\n",
       "      <th>numeric</th>\n",
       "      <th>yes_no</th>\n",
       "    </tr>\n",
       "    <tr>\n",
       "      <th>qtype</th>\n",
       "      <th></th>\n",
       "      <th></th>\n",
       "      <th></th>\n",
       "    </tr>\n",
       "  </thead>\n",
       "  <tbody>\n",
       "    <tr>\n",
       "      <th>numeric</th>\n",
       "      <td>53</td>\n",
       "      <td>5</td>\n",
       "      <td>0</td>\n",
       "    </tr>\n",
       "    <tr>\n",
       "      <th>open</th>\n",
       "      <td>9737</td>\n",
       "      <td>106</td>\n",
       "      <td>4</td>\n",
       "    </tr>\n",
       "    <tr>\n",
       "      <th>yes_no</th>\n",
       "      <td>2</td>\n",
       "      <td>0</td>\n",
       "      <td>9747</td>\n",
       "    </tr>\n",
       "  </tbody>\n",
       "</table>\n",
       "</div>"
      ],
      "text/plain": [
       "atype    free  numeric  yes_no\n",
       "qtype                         \n",
       "numeric    53        5       0\n",
       "open     9737      106       4\n",
       "yes_no      2        0    9747"
      ]
     },
     "metadata": {},
     "output_type": "display_data"
    },
    {
     "name": "stdout",
     "output_type": "stream",
     "text": [
      "\n",
      "Test chi²=6959.3 (dof=4), p=0.00e+00\n"
     ]
    },
    {
     "data": {
      "text/html": [
       "<div>\n",
       "<style scoped>\n",
       "    .dataframe tbody tr th:only-of-type {\n",
       "        vertical-align: middle;\n",
       "    }\n",
       "\n",
       "    .dataframe tbody tr th {\n",
       "        vertical-align: top;\n",
       "    }\n",
       "\n",
       "    .dataframe thead th {\n",
       "        text-align: right;\n",
       "    }\n",
       "</style>\n",
       "<table border=\"1\" class=\"dataframe\">\n",
       "  <thead>\n",
       "    <tr style=\"text-align: right;\">\n",
       "      <th>atype</th>\n",
       "      <th>free</th>\n",
       "      <th>numeric</th>\n",
       "      <th>yes_no</th>\n",
       "    </tr>\n",
       "    <tr>\n",
       "      <th>qtype</th>\n",
       "      <th></th>\n",
       "      <th></th>\n",
       "      <th></th>\n",
       "    </tr>\n",
       "  </thead>\n",
       "  <tbody>\n",
       "    <tr>\n",
       "      <th>numeric</th>\n",
       "      <td>23</td>\n",
       "      <td>7</td>\n",
       "      <td>0</td>\n",
       "    </tr>\n",
       "    <tr>\n",
       "      <th>open</th>\n",
       "      <td>3293</td>\n",
       "      <td>33</td>\n",
       "      <td>2</td>\n",
       "    </tr>\n",
       "    <tr>\n",
       "      <th>yes_no</th>\n",
       "      <td>1</td>\n",
       "      <td>0</td>\n",
       "      <td>3360</td>\n",
       "    </tr>\n",
       "  </tbody>\n",
       "</table>\n",
       "</div>"
      ],
      "text/plain": [
       "atype    free  numeric  yes_no\n",
       "qtype                         \n",
       "numeric    23        7       0\n",
       "open     3293       33       2\n",
       "yes_no      1        0    3360"
      ]
     },
     "metadata": {},
     "output_type": "display_data"
    },
    {
     "name": "stdout",
     "output_type": "stream",
     "text": [
      "\n",
      "Validation chi²=6255.4 (dof=4), p=0.00e+00\n"
     ]
    },
    {
     "data": {
      "text/html": [
       "<div>\n",
       "<style scoped>\n",
       "    .dataframe tbody tr th:only-of-type {\n",
       "        vertical-align: middle;\n",
       "    }\n",
       "\n",
       "    .dataframe tbody tr th {\n",
       "        vertical-align: top;\n",
       "    }\n",
       "\n",
       "    .dataframe thead th {\n",
       "        text-align: right;\n",
       "    }\n",
       "</style>\n",
       "<table border=\"1\" class=\"dataframe\">\n",
       "  <thead>\n",
       "    <tr style=\"text-align: right;\">\n",
       "      <th>atype</th>\n",
       "      <th>free</th>\n",
       "      <th>numeric</th>\n",
       "      <th>yes_no</th>\n",
       "    </tr>\n",
       "    <tr>\n",
       "      <th>qtype</th>\n",
       "      <th></th>\n",
       "      <th></th>\n",
       "      <th></th>\n",
       "    </tr>\n",
       "  </thead>\n",
       "  <tbody>\n",
       "    <tr>\n",
       "      <th>numeric</th>\n",
       "      <td>29</td>\n",
       "      <td>4</td>\n",
       "      <td>0</td>\n",
       "    </tr>\n",
       "    <tr>\n",
       "      <th>open</th>\n",
       "      <td>3052</td>\n",
       "      <td>42</td>\n",
       "      <td>7</td>\n",
       "    </tr>\n",
       "    <tr>\n",
       "      <th>yes_no</th>\n",
       "      <td>7</td>\n",
       "      <td>0</td>\n",
       "      <td>3118</td>\n",
       "    </tr>\n",
       "  </tbody>\n",
       "</table>\n",
       "</div>"
      ],
      "text/plain": [
       "atype    free  numeric  yes_no\n",
       "qtype                         \n",
       "numeric    29        4       0\n",
       "open     3052       42       7\n",
       "yes_no      7        0    3118"
      ]
     },
     "metadata": {},
     "output_type": "display_data"
    }
   ],
   "source": [
    "def classify_q(q):   # wie zuvor\n",
    "    q_lower = q.lower()\n",
    "    if re.match(r\"^(is|are|was|were|do|does|did|has|have|had|can|could|will|would|should)\\b\", q_lower):\n",
    "        return \"yes_no\"\n",
    "    if re.search(r\"\\d\", q_lower):\n",
    "        return \"numeric\"\n",
    "    return \"open\"\n",
    "\n",
    "def classify_a(a):   # wie zuvor\n",
    "    a_lower = a.lower()\n",
    "    if a_lower in {\"yes\", \"no\"}:        return \"yes_no\"\n",
    "    if re.search(r\"\\d\", a_lower):       return \"numeric\"\n",
    "    try: float(a_lower); return \"numeric\"\n",
    "    except: return \"free\"\n",
    "\n",
    "for name, ds in [(\"Train\", train), (\"Test\", test), (\"Validation\", validation)]:\n",
    "    mat = pd.crosstab(\n",
    "        pd.Series([classify_q(q) for q in ds[\"question\"]], name=\"qtype\"),\n",
    "        pd.Series([classify_a(a) for a in ds[\"answer\"]],   name=\"atype\")\n",
    "    )\n",
    "    chi2, p, dof, _ = chi2_contingency(mat)\n",
    "    print(f\"\\n{name} chi²={chi2:.1f} (dof={dof}), p={p:.2e}\")\n",
    "    display(mat)\n"
   ]
  },
  {
   "cell_type": "code",
   "execution_count": 33,
   "id": "f92e045b",
   "metadata": {},
   "outputs": [
    {
     "name": "stdout",
     "output_type": "stream",
     "text": [
      "Train: P(yes | 'image' in question) = 98.8% (1779/1800)\n",
      "Test: P(yes | 'image' in question) = 97.6% (605/620)\n",
      "Validation: P(yes | 'image' in question) = 98.3% (573/583)\n"
     ]
    }
   ],
   "source": [
    "def contains_image(q): return \"image\" in q.lower()\n",
    "\n",
    "for name, ds in [(\"Train\", train), (\"Test\", test), (\"Validation\", validation)]:\n",
    "    mask_yesno = [classify_q(q)==\"yes_no\" for q in ds[\"question\"]]\n",
    "    qs = np.array(ds[\"question\"])[mask_yesno]\n",
    "    ans = np.array(ds[\"answer\"])[mask_yesno]\n",
    "    image_mask = np.array([contains_image(q) for q in qs])\n",
    "    \n",
    "    yes_with_image = np.sum((ans[image_mask] == \"yes\") | (ans[image_mask] == \"Yes\"))\n",
    "    total_with_image = image_mask.sum()\n",
    "    print(f\"{name}: P(yes | 'image' in question) = {yes_with_image/total_with_image:.1%} \"\n",
    "          f\"({yes_with_image}/{total_with_image})\")\n"
   ]
  },
  {
   "cell_type": "code",
   "execution_count": 34,
   "id": "ae4b423c",
   "metadata": {},
   "outputs": [
    {
     "name": "stderr",
     "output_type": "stream",
     "text": [
      "C:\\Users\\lukas\\AppData\\Roaming\\Python\\Python311\\site-packages\\PIL\\TiffImagePlugin.py:950: UserWarning: Truncated File Read\n",
      "  warnings.warn(str(msg))\n"
     ]
    },
    {
     "name": "stdout",
     "output_type": "stream",
     "text": [
      "1542 unique questions appear on >1 image\n"
     ]
    }
   ],
   "source": [
    "q_to_imgs = defaultdict(set)\n",
    "for ds in [train, test, validation]:\n",
    "    for q, img in zip(ds[\"question\"], ds[\"image\"]):\n",
    "        q_to_imgs[q].add(hashlib.md5(img.tobytes()).hexdigest())\n",
    "\n",
    "multi_img_questions = {q:imgs for q, imgs in q_to_imgs.items() if len(imgs) > 1}\n",
    "print(f\"{len(multi_img_questions)} unique questions appear on >1 image\")\n"
   ]
  }
 ],
 "metadata": {
  "kernelspec": {
   "display_name": "Python 3",
   "language": "python",
   "name": "python3"
  },
  "language_info": {
   "codemirror_mode": {
    "name": "ipython",
    "version": 3
   },
   "file_extension": ".py",
   "mimetype": "text/x-python",
   "name": "python",
   "nbconvert_exporter": "python",
   "pygments_lexer": "ipython3",
   "version": "3.11.9"
  }
 },
 "nbformat": 4,
 "nbformat_minor": 5
}
